{
 "cells": [
  {
   "cell_type": "code",
   "execution_count": 1,
   "id": "shaped-vancouver",
   "metadata": {},
   "outputs": [],
   "source": [
    "## Preprocessing-데이터 전처리"
   ]
  },
  {
   "cell_type": "code",
   "execution_count": 2,
   "id": "charged-danish",
   "metadata": {},
   "outputs": [],
   "source": [
    "import pandas as pd\n",
    "import numpy as np\n",
    "import re\n",
    "import json \n",
    "\n",
    "from tensorflow.python.keras.preprocessing.text import Tokenizer\n",
    "from tensorflow.python.keras.preprocessing.sequence import pad_sequences"
   ]
  },
  {
   "cell_type": "code",
   "execution_count": 3,
   "id": "visible-hybrid",
   "metadata": {},
   "outputs": [],
   "source": [
    "DATA_IN_PATH = './data_in/'\n",
    "FILTERS = \"([~.,!?\\\"':;)(])\"\n",
    "\n",
    "change_filter = re.compile(FILTERS)\n",
    "train_data = pd.read_csv(DATA_IN_PATH + 'train.csv', encoding='utf-8')"
   ]
  },
  {
   "cell_type": "code",
   "execution_count": 4,
   "id": "reverse-canyon",
   "metadata": {},
   "outputs": [],
   "source": [
    "train_pos_data = train_data.loc[train_data['is_duplicate'] == 1]\n",
    "train_neg_data = train_data.loc[train_data['is_duplicate'] == 0]\n",
    "\n",
    "class_difference = len(train_neg_data) - len(train_pos_data)\n",
    "sample_frac = 1 -(class_difference / len(train_neg_data))\n",
    "\n",
    "train_neg_data = train_neg_data.sample(frac = sample_frac) # .sample 샘플링"
   ]
  },
  {
   "cell_type": "code",
   "execution_count": 5,
   "id": "amateur-enzyme",
   "metadata": {},
   "outputs": [
    {
     "name": "stdout",
     "output_type": "stream",
     "text": [
      "중복 질문 개수: 149263\n",
      "중복이 아닌 질문 개수: 149263\n"
     ]
    }
   ],
   "source": [
    "print(\"중복 질문 개수: {}\".format(len(train_pos_data)))\n",
    "print(\"중복이 아닌 질문 개수: {}\".format(len(train_neg_data)))"
   ]
  },
  {
   "cell_type": "code",
   "execution_count": 6,
   "id": "separated-collapse",
   "metadata": {
    "scrolled": true
   },
   "outputs": [
    {
     "data": {
      "text/plain": [
       "['How do you cook canned kidney beans?',\n",
       " 'How can I get the guy I like to like me again?',\n",
       " 'How can 4.6x30 mm rounds have more Armor Piercing capability than 9x19 mm rounds?',\n",
       " 'What\\'s the difference in meaning between these two sentences, \"a minute upon waking up, I can barely feel my feet,\" and \"upon a minute of waking up, I can barely feel my feet\"?',\n",
       " 'Is wikibuy.com legit or a scam?',\n",
       " 'What is the most pretentious thing you have ever heard someone say?',\n",
       " 'How good is MIS course at ASU?',\n",
       " 'What is the best thing someone ever did for you?',\n",
       " 'What is the future of iot?',\n",
       " 'Why do people sometimes call Obama POTUS?',\n",
       " \"For an average workout I max out at 180-210 bpm depending on what I'm doing. Is this safe?\",\n",
       " 'Why alpha position is more active in naphthalene? As most groups attack at Alpha position?',\n",
       " 'What are some of the finest works/roles of Indian veteran actor Om Puri?',\n",
       " 'Does true love still exists or its just about sex?',\n",
       " 'What is high powered money? How can it be used as a regulatory mechanism by the RBI?',\n",
       " 'What are the Best One liners on management?',\n",
       " 'How has education changed in your country for the past 10 years?',\n",
       " 'What are your favourite sex positions?',\n",
       " 'What is the deal with Marshawn Lynch and Skittles?',\n",
       " 'Where can I buy meldonium in the United States?',\n",
       " 'How do I start preparation for SSC CGL?',\n",
       " 'I am planning to attend Hyderabad lit fest in Jan 2017.do I need to register for it in advance?',\n",
       " 'How is Matt LeBlanc (Joey Tribbiani of Friends) in real life?',\n",
       " 'What advice would you give to a 20 year unmarried guy about his love, life?',\n",
       " 'How do I unsubscribe from Quora emails?',\n",
       " 'What items found at home may contain true alkaloids? How are they dangerous?',\n",
       " 'Would you buy a service for $5 that promises to help u make $1,000 weekly and they also give service for one week free and they prove what they claim?',\n",
       " 'How do you use be, been, and being in an English sentence?',\n",
       " \"What's the difference between buffered I/O and unbuffered I/O?\",\n",
       " 'Are craigslist alternatives like Backpage or Kijiji any good?',\n",
       " 'After a conversation with a girl how can I tell if she likes me?',\n",
       " 'Which is the best training institute for spring and hibernate in bangalore?',\n",
       " 'What are some tips on making it through the job interview process at American Capital Agency?',\n",
       " \"What's it like to work at Realogy for your first job?\",\n",
       " 'How many minutes in an NBA basketball quarter?',\n",
       " 'Do I need a Masters/PhD to become a data scientist?',\n",
       " 'What are your views on future immigration policies like H-1?',\n",
       " 'What is the definition of demographic change? What is an example?',\n",
       " 'What are the contributions of Abdul Kalam as a scientist?',\n",
       " \"Why don't most people wear helmets while riding in India?\",\n",
       " 'What is the most interesting thing you did lately?',\n",
       " 'What is it with sea cucumbers?']"
      ]
     },
     "execution_count": 6,
     "metadata": {},
     "output_type": "execute_result"
    }
   ],
   "source": [
    "train_data = pd.concat([train_neg_data, train_pos_data])    #라벨에 따라 나눠진 데이터를 다시 하나로 합치기\n",
    "questions1 = [str(s) for s in train_data['question1']]\n",
    "questions2 = [str(s) for s in train_data['question2']]\n",
    "questions1[0:42]"
   ]
  },
  {
   "cell_type": "code",
   "execution_count": 7,
   "id": "lesser-coverage",
   "metadata": {},
   "outputs": [
    {
     "data": {
      "text/plain": [
       "'how do i cook canned beans'"
      ]
     },
     "execution_count": 7,
     "metadata": {},
     "output_type": "execute_result"
    }
   ],
   "source": [
    "# 각 데이터에 있는 두 개의 질문을 각각 리스트 형태로 만든 후 각 리스트에 대해 소문자로 바꾸고 필터로 기호제거 처리\n",
    "# 그 후 전처리된 리스트를 만드는 과정\n",
    "\n",
    "\n",
    "# questions1 = [str(s) for s in train_data['question1']]\n",
    "# questions2 = [str(s) for s in train_data['question2']]\n",
    "\n",
    "filtered_questions1 = list()\n",
    "filtered_questions2 = list()\n",
    "\n",
    "for q in questions1:\n",
    "     filtered_questions1.append(re.sub(change_filter, \"\", q).lower())\n",
    "        \n",
    "for q in questions2:\n",
    "     filtered_questions2.append(re.sub(change_filter, \"\", q).lower())  \n",
    "        \n",
    "filtered_questions1[0]\n",
    "filtered_questions2[0]"
   ]
  },
  {
   "cell_type": "code",
   "execution_count": 8,
   "id": "blind-gnome",
   "metadata": {
    "scrolled": true
   },
   "outputs": [
    {
     "data": {
      "text/plain": [
       "['how do you cook canned kidney beans',\n",
       " 'how can i get the guy i like to like me again',\n",
       " 'how can 46x30 mm rounds have more armor piercing capability than 9x19 mm rounds',\n",
       " 'whats the difference in meaning between these two sentences a minute upon waking up i can barely feel my feet and upon a minute of waking up i can barely feel my feet',\n",
       " 'is wikibuycom legit or a scam',\n",
       " 'what is the most pretentious thing you have ever heard someone say',\n",
       " 'how good is mis course at asu',\n",
       " 'what is the best thing someone ever did for you',\n",
       " 'what is the future of iot',\n",
       " 'why do people sometimes call obama potus',\n",
       " 'for an average workout i max out at 180-210 bpm depending on what im doing is this safe',\n",
       " 'why alpha position is more active in naphthalene as most groups attack at alpha position',\n",
       " 'what are some of the finest works/roles of indian veteran actor om puri',\n",
       " 'does true love still exists or its just about sex',\n",
       " 'what is high powered money how can it be used as a regulatory mechanism by the rbi',\n",
       " 'what are the best one liners on management',\n",
       " 'how has education changed in your country for the past 10 years',\n",
       " 'what are your favourite sex positions',\n",
       " 'what is the deal with marshawn lynch and skittles',\n",
       " 'where can i buy meldonium in the united states',\n",
       " 'how do i start preparation for ssc cgl',\n",
       " 'i am planning to attend hyderabad lit fest in jan 2017do i need to register for it in advance',\n",
       " 'how is matt leblanc joey tribbiani of friends in real life',\n",
       " 'what advice would you give to a 20 year unmarried guy about his love life',\n",
       " 'how do i unsubscribe from quora emails',\n",
       " 'what items found at home may contain true alkaloids how are they dangerous',\n",
       " 'would you buy a service for $5 that promises to help u make $1000 weekly and they also give service for one week free and they prove what they claim',\n",
       " 'how do you use be been and being in an english sentence',\n",
       " 'whats the difference between buffered i/o and unbuffered i/o',\n",
       " 'are craigslist alternatives like backpage or kijiji any good',\n",
       " 'after a conversation with a girl how can i tell if she likes me',\n",
       " 'which is the best training institute for spring and hibernate in bangalore',\n",
       " 'what are some tips on making it through the job interview process at american capital agency',\n",
       " 'whats it like to work at realogy for your first job',\n",
       " 'how many minutes in an nba basketball quarter',\n",
       " 'do i need a masters/phd to become a data scientist',\n",
       " 'what are your views on future immigration policies like h-1',\n",
       " 'what is the definition of demographic change what is an example',\n",
       " 'what are the contributions of abdul kalam as a scientist',\n",
       " 'why dont most people wear helmets while riding in india',\n",
       " 'what is the most interesting thing you did lately',\n",
       " 'what is it with sea cucumbers']"
      ]
     },
     "execution_count": 8,
     "metadata": {},
     "output_type": "execute_result"
    }
   ],
   "source": [
    "filtered_questions1[0:42]"
   ]
  },
  {
   "cell_type": "code",
   "execution_count": 9,
   "id": "drawn-display",
   "metadata": {},
   "outputs": [],
   "source": [
    "# 문자열 데이터 형식 저장\n",
    "clean_train_q1_df = pd.DataFrame({'questions1': filtered_questions1, 'is_duplicate': train_data['is_duplicate']})\n",
    "clean_train_q2_df = pd.DataFrame({'questions2': filtered_questions2, 'is_duplicate': train_data['is_duplicate']})\n"
   ]
  },
  {
   "cell_type": "code",
   "execution_count": 10,
   "id": "equivalent-tribune",
   "metadata": {},
   "outputs": [],
   "source": [
    "# 두 질문 텍스트를 합친 리스트에 대해 도크나이징 객체를 정용\n",
    "tokenizer = Tokenizer()\n",
    "tokenizer.fit_on_texts(filtered_questions1 + filtered_questions2)"
   ]
  },
  {
   "cell_type": "code",
   "execution_count": 11,
   "id": "historical-republic",
   "metadata": {},
   "outputs": [],
   "source": [
    "# 각 질문에 대해 따로 토크나이징\n",
    "questions1_sequence = tokenizer.texts_to_sequences(filtered_questions1)\n",
    "questions2_sequence = tokenizer.texts_to_sequences(filtered_questions2)"
   ]
  },
  {
   "cell_type": "code",
   "execution_count": 12,
   "id": "according-uniform",
   "metadata": {},
   "outputs": [],
   "source": [
    "# 최대길이 보다 작으면 자르고, 짧으면 패딩\n",
    "MAX_SEQUENCE_LENGTH = 31\n",
    "q1_data = pad_sequences(questions1_sequence, maxlen=MAX_SEQUENCE_LENGTH, padding='post')\n",
    "q2_data = pad_sequences(questions2_sequence, maxlen=MAX_SEQUENCE_LENGTH, padding='post')"
   ]
  },
  {
   "cell_type": "code",
   "execution_count": 13,
   "id": "partial-kernel",
   "metadata": {},
   "outputs": [
    {
     "name": "stdout",
     "output_type": "stream",
     "text": [
      "Shape of question1 data: (298526, 31)\n",
      "Shape of question2 data:(298526, 31)\n",
      "Shape of label: (298526,)\n",
      "Words in index: 76531\n"
     ]
    }
   ],
   "source": [
    "\n",
    "word_vocab = {}\n",
    "word_vocab = tokenizer.word_index \n",
    "word_vocab[\"<PAD>\"] = 0\n",
    "\n",
    "labels = np.array(train_data['is_duplicate'], dtype=int)\n",
    "\n",
    "print('Shape of question1 data: {}'.format(q1_data.shape))\n",
    "print('Shape of question2 data:{}'.format(q2_data.shape))\n",
    "print('Shape of label: {}'.format(labels.shape))\n",
    "print(\"Words in index: {}\".format(len(word_vocab)))"
   ]
  },
  {
   "cell_type": "code",
   "execution_count": 14,
   "id": "compact-literacy",
   "metadata": {},
   "outputs": [],
   "source": [
    "# 단어 사전과 전체 단어의 개수 딕셔너리 형태로 저장\n",
    "data_configs = {}\n",
    "data_configs['vocab'] = word_vocab\n",
    "data_configs['vocab_size'] = len(word_vocab)"
   ]
  },
  {
   "cell_type": "code",
   "execution_count": 15,
   "id": "polyphonic-penguin",
   "metadata": {},
   "outputs": [],
   "source": [
    "# 넘파이의 save함수를 활용해 각 질문과 라벨 데이터를 저장\n",
    "TRAIN_Q1_DATA = 'train_q1.npy'\n",
    "TRAIN_Q2_DATA = 'train_q2.npy'\n",
    "TRAIN_LABEL_DATA = 'train_label.npy'\n",
    "\n",
    "TRAIN_CLEAN_Q1_DATA = 'train_clean_q1.csv'\n",
    "TRAIN_CLEAN_Q2_DATA = 'train_clean_q2.csv'\n",
    "\n",
    "DATA_CONFIGS = 'data_configs.json'\n",
    "\n",
    "\n",
    "# 전처리된 데이터를 넘파이 형태로 저장\n",
    "np.save(open(DATA_IN_PATH + TRAIN_Q1_DATA, 'wb'), q1_data)\n",
    "np.save(open(DATA_IN_PATH + TRAIN_Q2_DATA, 'wb'), q2_data)\n",
    "np.save(open(DATA_IN_PATH + TRAIN_LABEL_DATA, 'wb'), labels)\n",
    "\n",
    "# 정제된 데이터를 CSV형태로 저장\n",
    "clean_train_q1_df.to_csv(DATA_IN_PATH + TRAIN_CLEAN_Q1_DATA, index = False)\n",
    "clean_train_q2_df.to_csv(DATA_IN_PATH + TRAIN_CLEAN_Q2_DATA, index = False)\n",
    "\n",
    "# e데이터 사전을 JSON 형태로 저장\n",
    "json.dump(data_configs, open(DATA_IN_PATH + DATA_CONFIGS, 'w'))"
   ]
  },
  {
   "cell_type": "code",
   "execution_count": 16,
   "id": "competitive-giving",
   "metadata": {},
   "outputs": [
    {
     "name": "stderr",
     "output_type": "stream",
     "text": [
      "c:\\users\\yeom\\anaconda3\\envs\\nlp\\lib\\site-packages\\IPython\\core\\interactiveshell.py:3072: DtypeWarning: Columns (0) have mixed types.Specify dtype option on import or set low_memory=False.\n",
      "  interactivity=interactivity, compiler=compiler, result=result)\n"
     ]
    },
    {
     "data": {
      "text/html": [
       "<div>\n",
       "<style scoped>\n",
       "    .dataframe tbody tr th:only-of-type {\n",
       "        vertical-align: middle;\n",
       "    }\n",
       "\n",
       "    .dataframe tbody tr th {\n",
       "        vertical-align: top;\n",
       "    }\n",
       "\n",
       "    .dataframe thead th {\n",
       "        text-align: right;\n",
       "    }\n",
       "</style>\n",
       "<table border=\"1\" class=\"dataframe\">\n",
       "  <thead>\n",
       "    <tr style=\"text-align: right;\">\n",
       "      <th></th>\n",
       "      <th>test_id</th>\n",
       "      <th>question1</th>\n",
       "      <th>question2</th>\n",
       "    </tr>\n",
       "  </thead>\n",
       "  <tbody>\n",
       "    <tr>\n",
       "      <th>0</th>\n",
       "      <td>0</td>\n",
       "      <td>How does the Surface Pro himself 4 compare wit...</td>\n",
       "      <td>Why did Microsoft choose core m3 and not core ...</td>\n",
       "    </tr>\n",
       "    <tr>\n",
       "      <th>1</th>\n",
       "      <td>1</td>\n",
       "      <td>Should I have a hair transplant at age 24? How...</td>\n",
       "      <td>How much cost does hair transplant require?</td>\n",
       "    </tr>\n",
       "    <tr>\n",
       "      <th>2</th>\n",
       "      <td>2</td>\n",
       "      <td>What but is the best way to send money from Ch...</td>\n",
       "      <td>What you send money to China?</td>\n",
       "    </tr>\n",
       "    <tr>\n",
       "      <th>3</th>\n",
       "      <td>3</td>\n",
       "      <td>Which food not emulsifiers?</td>\n",
       "      <td>What foods fibre?</td>\n",
       "    </tr>\n",
       "    <tr>\n",
       "      <th>4</th>\n",
       "      <td>4</td>\n",
       "      <td>How \"aberystwyth\" start reading?</td>\n",
       "      <td>How their can I start reading?</td>\n",
       "    </tr>\n",
       "  </tbody>\n",
       "</table>\n",
       "</div>"
      ],
      "text/plain": [
       "  test_id                                          question1  \\\n",
       "0       0  How does the Surface Pro himself 4 compare wit...   \n",
       "1       1  Should I have a hair transplant at age 24? How...   \n",
       "2       2  What but is the best way to send money from Ch...   \n",
       "3       3                        Which food not emulsifiers?   \n",
       "4       4                   How \"aberystwyth\" start reading?   \n",
       "\n",
       "                                           question2  \n",
       "0  Why did Microsoft choose core m3 and not core ...  \n",
       "1        How much cost does hair transplant require?  \n",
       "2                      What you send money to China?  \n",
       "3                                  What foods fibre?  \n",
       "4                     How their can I start reading?  "
      ]
     },
     "execution_count": 16,
     "metadata": {},
     "output_type": "execute_result"
    }
   ],
   "source": [
    "# 평가 데이터 불러오기\n",
    "test_data = pd.read_csv(DATA_IN_PATH + 'test.csv', encoding='utf-8')\n",
    "test_data.head()\n"
   ]
  },
  {
   "cell_type": "code",
   "execution_count": 17,
   "id": "painted-extra",
   "metadata": {},
   "outputs": [
    {
     "data": {
      "text/html": [
       "<div>\n",
       "<style scoped>\n",
       "    .dataframe tbody tr th:only-of-type {\n",
       "        vertical-align: middle;\n",
       "    }\n",
       "\n",
       "    .dataframe tbody tr th {\n",
       "        vertical-align: top;\n",
       "    }\n",
       "\n",
       "    .dataframe thead th {\n",
       "        text-align: right;\n",
       "    }\n",
       "</style>\n",
       "<table border=\"1\" class=\"dataframe\">\n",
       "  <thead>\n",
       "    <tr style=\"text-align: right;\">\n",
       "      <th></th>\n",
       "      <th>test_id</th>\n",
       "      <th>question1</th>\n",
       "      <th>question2</th>\n",
       "    </tr>\n",
       "  </thead>\n",
       "  <tbody>\n",
       "    <tr>\n",
       "      <th>0</th>\n",
       "      <td>0</td>\n",
       "      <td>How does the Surface Pro himself 4 compare wit...</td>\n",
       "      <td>Why did Microsoft choose core m3 and not core ...</td>\n",
       "    </tr>\n",
       "    <tr>\n",
       "      <th>1</th>\n",
       "      <td>1</td>\n",
       "      <td>Should I have a hair transplant at age 24? How...</td>\n",
       "      <td>How much cost does hair transplant require?</td>\n",
       "    </tr>\n",
       "    <tr>\n",
       "      <th>2</th>\n",
       "      <td>2</td>\n",
       "      <td>What but is the best way to send money from Ch...</td>\n",
       "      <td>What you send money to China?</td>\n",
       "    </tr>\n",
       "    <tr>\n",
       "      <th>3</th>\n",
       "      <td>3</td>\n",
       "      <td>Which food not emulsifiers?</td>\n",
       "      <td>What foods fibre?</td>\n",
       "    </tr>\n",
       "    <tr>\n",
       "      <th>4</th>\n",
       "      <td>4</td>\n",
       "      <td>How \"aberystwyth\" start reading?</td>\n",
       "      <td>How their can I start reading?</td>\n",
       "    </tr>\n",
       "  </tbody>\n",
       "</table>\n",
       "</div>"
      ],
      "text/plain": [
       "  test_id                                          question1  \\\n",
       "0       0  How does the Surface Pro himself 4 compare wit...   \n",
       "1       1  Should I have a hair transplant at age 24? How...   \n",
       "2       2  What but is the best way to send money from Ch...   \n",
       "3       3                        Which food not emulsifiers?   \n",
       "4       4                   How \"aberystwyth\" start reading?   \n",
       "\n",
       "                                           question2  \n",
       "0  Why did Microsoft choose core m3 and not core ...  \n",
       "1        How much cost does hair transplant require?  \n",
       "2                      What you send money to China?  \n",
       "3                                  What foods fibre?  \n",
       "4                     How their can I start reading?  "
      ]
     },
     "execution_count": 17,
     "metadata": {},
     "output_type": "execute_result"
    }
   ],
   "source": [
    "valid_ids = [type(x) == int for x in test_data.test_id]\n",
    "test_data = test_data[valid_ids].drop_duplicates()\n",
    "test_data.head()"
   ]
  },
  {
   "cell_type": "code",
   "execution_count": 18,
   "id": "global-ireland",
   "metadata": {},
   "outputs": [],
   "source": [
    "# 평가 데이터 전처리\n",
    "test_questions1 = [str(s) for s in test_data['question1']]\n",
    "test_questions2 = [str(s) for s in test_data['question2']]\n",
    "filtered_test_questions1 = list()\n",
    "filtered_test_questions2 = list()\n",
    "\n",
    "for q in test_questions1:\n",
    "    filtered_test_questions1.append(re.sub(change_filter, \"\", q).lower())\n",
    "    \n",
    "for q in test_questions2:\n",
    "    filtered_test_questions2.append(re.sub(change_filter, \"\", q).lower())"
   ]
  },
  {
   "cell_type": "code",
   "execution_count": 19,
   "id": "compressed-puzzle",
   "metadata": {},
   "outputs": [],
   "source": [
    "# 문자열 데이터 저장 (TF-IDF 용)\n",
    "clean_test_q1_df = pd.DataFrame({'questions1': filtered_test_questions1, 'test_id': test_data['test_id']})\n",
    "clean_test_q2_df = pd.DataFrame({'questions2': filtered_test_questions2, 'test_id': test_data['test_id']})"
   ]
  },
  {
   "cell_type": "code",
   "execution_count": 20,
   "id": "minute-crack",
   "metadata": {},
   "outputs": [],
   "source": [
    "# 패딩 처리\n",
    "test_questions1_sequence = tokenizer.texts_to_sequences(filtered_test_questions1)\n",
    "test_questions2_sequence = tokenizer.texts_to_sequences(filtered_test_questions2)\n",
    "\n",
    "test_q1_data = pad_sequences(test_questions1_sequence, maxlen=MAX_SEQUENCE_LENGTH, padding='post')\n",
    "test_q2_data = pad_sequences(test_questions2_sequence, maxlen=MAX_SEQUENCE_LENGTH, padding='post')"
   ]
  },
  {
   "cell_type": "code",
   "execution_count": 21,
   "id": "miniature-garage",
   "metadata": {},
   "outputs": [
    {
     "name": "stdout",
     "output_type": "stream",
     "text": [
      "Shape of question1 data: (2345796, 31)\n",
      "Shape of question2 data: (2345796, 31)\n",
      "Shape of ids: (2345796,)\n"
     ]
    }
   ],
   "source": [
    "# 평가 데이터의 id 값을 넘파이 배열로 생성\n",
    "test_id = np.array(test_data['test_id'])\n",
    "\n",
    "print('Shape of question1 data: {}'.format(test_q1_data.shape))\n",
    "print('Shape of question2 data: {}'.format(test_q2_data.shape))\n",
    "print('Shape of ids: {}'.format(test_id.shape))"
   ]
  },
  {
   "cell_type": "code",
   "execution_count": 22,
   "id": "embedded-baltimore",
   "metadata": {},
   "outputs": [],
   "source": [
    "# 전처리 한 평가 데이터 파일로 저장\n",
    "TEST_Q1_DATA = 'test_q1.npy'\n",
    "TEST_Q2_DATA = 'test_q2.npy'\n",
    "\n",
    "TEST_CLEAN_Q1_DATA = 'test_clean_q1.csv'\n",
    "TEST_CLEAN_Q2_DATA = 'test_clean_q2.csv'\n",
    "\n",
    "TEST_ID_DATA = 'test_id.npy'\n",
    "\n",
    "np.save(open(DATA_IN_PATH + TEST_Q1_DATA, 'wb'), test_q1_data)\n",
    "np.save(open(DATA_IN_PATH + TEST_Q2_DATA, 'wb'), test_q2_data)\n",
    "np.save(open(DATA_IN_PATH + TEST_ID_DATA, 'wb'), test_id)\n",
    "\n",
    "clean_test_q1_df.to_csv(DATA_IN_PATH + TEST_CLEAN_Q1_DATA, index=False)\n",
    "clean_test_q2_df.to_csv(DATA_IN_PATH + TEST_CLEAN_Q2_DATA, index=False)"
   ]
  }
 ],
 "metadata": {
  "kernelspec": {
   "display_name": "Python 3",
   "language": "python",
   "name": "python3"
  },
  "language_info": {
   "codemirror_mode": {
    "name": "ipython",
    "version": 3
   },
   "file_extension": ".py",
   "mimetype": "text/x-python",
   "name": "python",
   "nbconvert_exporter": "python",
   "pygments_lexer": "ipython3",
   "version": "3.6.12"
  },
  "widgets": {
   "application/vnd.jupyter.widget-state+json": {
    "state": {},
    "version_major": 2,
    "version_minor": 0
   }
  }
 },
 "nbformat": 4,
 "nbformat_minor": 5
}
